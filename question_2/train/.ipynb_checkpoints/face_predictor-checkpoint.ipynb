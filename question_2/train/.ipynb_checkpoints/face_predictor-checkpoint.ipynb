{
 "cells": [
  {
   "cell_type": "markdown",
   "metadata": {},
   "source": [
    "# Instructions\n",
    "\n",
    "Task 2:\n",
    "1. Have a file face_predictor.py or equivalent that takes one string that represents the access code for https://hackattic.com/challenges/basic_face_detection ...\n",
    "2. ... that returns the json structure face_tiles that fulfils the requirements in the hackattic challenge\n",
    "3. Feel free to use hackattic and even the discussion board for hints."
   ]
  },
  {
   "cell_type": "code",
   "execution_count": 6,
   "metadata": {},
   "outputs": [],
   "source": [
    "import numpy as np\n",
    "import pandas as pd\n",
    "import requests\n",
    "import face_recognition\n",
    "import cv2"
   ]
  },
  {
   "cell_type": "code",
   "execution_count": null,
   "metadata": {},
   "outputs": [],
   "source": [
    "#Image is 8x8, 800x800 pixels. Images are all squares of 100x100 pixels.\n",
    "\n",
    "# Load an color image in grayscale\n",
    "img = cv2.imread('./messi5.jpg',0)"
   ]
  }
 ],
 "metadata": {
  "kernelspec": {
   "display_name": "Python 3",
   "language": "python",
   "name": "python3"
  },
  "language_info": {
   "codemirror_mode": {
    "name": "ipython",
    "version": 3
   },
   "file_extension": ".py",
   "mimetype": "text/x-python",
   "name": "python",
   "nbconvert_exporter": "python",
   "pygments_lexer": "ipython3",
   "version": "3.6.7"
  }
 },
 "nbformat": 4,
 "nbformat_minor": 4
}
