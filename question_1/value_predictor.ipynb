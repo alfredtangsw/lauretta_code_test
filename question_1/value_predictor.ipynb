{
 "cells": [
  {
   "cell_type": "markdown",
   "metadata": {},
   "source": [
    "# Instructions\n",
    "1. Create in a github repo for this test\n",
    "2. Have a file value_predictor.py or equivalent that takes a list of an even number of value and is of at minimum length of 6 sequential and increasing elements and find the most likely middle value.\n",
    "\n",
    "Test case:\n",
    "- value_predictor([1,2,3,4,5,6]) should return 3.5\n",
    "- value_predictor([1,1,1,6,6,6]) should return either 3.5 closer to 3.45 depending on method"
   ]
  },
  {
   "cell_type": "code",
   "execution_count": 6,
   "metadata": {},
   "outputs": [
    {
     "data": {
      "text/plain": [
       "[1, 2, 3, 4, 5, 6, 7, 8, 9, 10]"
      ]
     },
     "execution_count": 6,
     "metadata": {},
     "output_type": "execute_result"
    }
   ],
   "source": [
    "#visualise results of dividing even numbers by even numbers (for getting list positions)\n",
    "\n",
    "[int(x/2) for x in [2,4,6,8,10,12,14,16,18,20]]"
   ]
  },
  {
   "cell_type": "code",
   "execution_count": 22,
   "metadata": {},
   "outputs": [
    {
     "data": {
      "text/plain": [
       "3"
      ]
     },
     "execution_count": 22,
     "metadata": {},
     "output_type": "execute_result"
    }
   ],
   "source": [
    "#check whether Python rounds ints up or down\n",
    "int(len([1,2,3,4,5,6,7])/2)"
   ]
  },
  {
   "cell_type": "code",
   "execution_count": 10,
   "metadata": {},
   "outputs": [],
   "source": [
    "def value_predictor(num_lst):\n",
    "    \n",
    "    if not type(num_lst)==list:    #input must be a list\n",
    "        print(\"ERROR. Please enter a list of integers.\")\n",
    "    \n",
    "    \n",
    "    else:\n",
    "        \n",
    "        if not all((isinstance(x,int) for x in num_lst)):    #input must be all integers\n",
    "            print(\"ERROR. Please enter integers only.\")\n",
    "\n",
    "        else:   \n",
    "\n",
    "            lst_length = len(num_lst)\n",
    "\n",
    "            if lst_length < 6:    #input list must have at least 6 ints\n",
    "\n",
    "                print(\"ERROR. Please enter at least 6 integers.\")\n",
    "\n",
    "            else:\n",
    "\n",
    "                if lst_length % 2 == 0:    #Only for even number of objects in list\n",
    "\n",
    "                    left_pos = int(lst_length/2) - 1    #get position of 1st value in list to calc middle value. -1 because Python is zero-indexed\n",
    "\n",
    "                    right_pos = left_pos + 1    #2nd value's position\n",
    "\n",
    "                    left_val = num_lst[left_pos]    \n",
    "\n",
    "                    right_val =num_lst[right_pos]\n",
    "\n",
    "                    mid_val = (left_val+right_val)/2\n",
    "\n",
    "\n",
    "                else:\n",
    "\n",
    "                    mid_pos = int(lst_length/2)    #account for Python zero-indexing\n",
    "\n",
    "                    mid_val = num_lst[mid_pos]\n",
    "\n",
    "\n",
    "                return mid_val"
   ]
  },
  {
   "cell_type": "code",
   "execution_count": 11,
   "metadata": {},
   "outputs": [
    {
     "data": {
      "text/plain": [
       "3.5"
      ]
     },
     "execution_count": 11,
     "metadata": {},
     "output_type": "execute_result"
    }
   ],
   "source": [
    "#test case 1\n",
    "value_predictor([1,2,3,4,5,6])"
   ]
  },
  {
   "cell_type": "code",
   "execution_count": 12,
   "metadata": {},
   "outputs": [
    {
     "data": {
      "text/plain": [
       "3.5"
      ]
     },
     "execution_count": 12,
     "metadata": {},
     "output_type": "execute_result"
    }
   ],
   "source": [
    "#test case 2\n",
    "value_predictor([1,1,1,6,6,6])"
   ]
  },
  {
   "cell_type": "code",
   "execution_count": 13,
   "metadata": {},
   "outputs": [
    {
     "data": {
      "text/plain": [
       "4"
      ]
     },
     "execution_count": 13,
     "metadata": {},
     "output_type": "execute_result"
    }
   ],
   "source": [
    "#test case 3 - odd number of objects in list\n",
    "value_predictor([1,2,3,4,5,6,7])"
   ]
  },
  {
   "cell_type": "code",
   "execution_count": 14,
   "metadata": {},
   "outputs": [
    {
     "name": "stdout",
     "output_type": "stream",
     "text": [
      "ERROR. Please enter integers only.\n"
     ]
    }
   ],
   "source": [
    "#test case 4 - str in list\n",
    "value_predictor(['1',2,3,4,5,6])"
   ]
  },
  {
   "cell_type": "code",
   "execution_count": 15,
   "metadata": {},
   "outputs": [
    {
     "name": "stdout",
     "output_type": "stream",
     "text": [
      "ERROR. Please enter a list of integers.\n"
     ]
    }
   ],
   "source": [
    "#test case 5 - numbers entered as one number\n",
    "value_predictor(123456)"
   ]
  },
  {
   "cell_type": "code",
   "execution_count": 16,
   "metadata": {},
   "outputs": [
    {
     "name": "stdout",
     "output_type": "stream",
     "text": [
      "ERROR. Please enter a list of integers.\n"
     ]
    }
   ],
   "source": [
    "#test case 6 - numbers entered as a string\n",
    "value_predictor('123456')    #could still feasibly be converted to a list of integers"
   ]
  }
 ],
 "metadata": {
  "kernelspec": {
   "display_name": "Python 3",
   "language": "python",
   "name": "python3"
  },
  "language_info": {
   "codemirror_mode": {
    "name": "ipython",
    "version": 3
   },
   "file_extension": ".py",
   "mimetype": "text/x-python",
   "name": "python",
   "nbconvert_exporter": "python",
   "pygments_lexer": "ipython3",
   "version": "3.6.7"
  }
 },
 "nbformat": 4,
 "nbformat_minor": 4
}
